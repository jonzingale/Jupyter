{
 "cells": [
  {
   "cell_type": "markdown",
   "metadata": {},
   "source": [
    "# Objectifying Things: Inclusions into a category of properties.\n",
    "\n",
    "### Introduction.\n",
    "Herein I am concerned with the problem of logical inference a' la Pierce.<br>\n",
    "To approach such a problem it may well be necessary to examine those ephemeral<br>\n",
    "and possibly tenuous connections between the $Thing$ and the $Object$. From the<br>\n",
    "perspective of an objectifying science, the thing is ever elusive. It has no properties<br>\n",
    "aside from those we glean from objectification and in some senses can never be talked<br>\n",
    "about directly. Objects for us are the real. When we speak about this or that we are<br>\n",
    "speaking of classes, namely classes of objects, and it these classes we come to make<br>\n",
    "propositions about. Still, we have objectified *something* and this *something* we<br>\n",
    "come to know through the objectification process, ie. the relations between the $Thing$<br>\n",
    "and the $Object$ (perhaps an instantiation in a category of $Properties$). It is this<br>\n",
    "interpretation in which I am concerned in the following work.<p>\n",
    "\n",
    "### Faux-Functors\n",
    "Note, the objectifying functor is not a proper functor as things are exactly not objects,<br>\n",
    "and as such there is no sense asking about parts of things, only parts of objectified things.<br>\n",
    "This ugly detail will be ignored for the purposes of this text. It will be left as an exercise<br>\n",
    "for the future to determine what such a faux-functor can even be.<p>\n",
    "\n",
    "### Induction.\n",
    "\n",
    "Holding fixed a known thing, induction is the process of extrapolating properties.<br>\n",
    "To perform an induction one must assume the objectified thing to be known, that is,<br>\n",
    "one asserts the existence of an objectifying functor, $objectify: Things \\to Properties$,<br>\n",
    "which is full and faithful wrt each class. Put another way, relations between things are<br>\n",
    "*reflected* in the relations between the properties of the things.<p>\n",
    "\n",
    "For any given thing, $objectify$ gives an inclusion mapping for each possible property, ie<br>\n",
    "for any given property the value of the thing is decideable relative to the property.<br>\n",
    "Given a $duck$ the $objectify$ returns a listing:<p>\n",
    "$d_{color}: the ducks color \\to Colors$<br>\n",
    "$d_{walk}: the ducks walk \\to Walks$<br>\n",
    "$d_{talk}: the ducks talk \\to Talks$<br>\n",
    "$...$<p>\n",
    "Each $d_i$ is the inclusion of the duck with respect to a given property such as color.<br>\n",
    "I suspect that $objectify$ is natural and each $d_i$ is a component.<p>\n",
    "\n",
    "__What is a class?__<br>\n",
    "Given an object $C$ in a category of properties, a class (or population) is the subobject $D$<br>\n",
    "of $C$, specifically the subobject which completely specifies a population with respect to $C$.<br>\n",
    "For instance, an object in a category of properties might be $Color$. The inclusion of a duck<br>\n",
    "into this category is a functor $incl_{color}: Things \\hookrightarrow Properties$ which for a given duck<br>\n",
    "returns propositions about its color, $incl_{color}(duck) \\mapsto [white_{x0}, grey_{x1},... ]$<br>\n",
    "\n",
    "The color of a duck's parts can be given by the inclusion, $Duck_{color}: D \\to Color$.<br>"
   ]
  },
  {
   "cell_type": "code",
   "execution_count": null,
   "metadata": {
    "collapsed": true
   },
   "outputs": [],
   "source": []
  }
 ],
 "metadata": {
  "kernelspec": {
   "display_name": "Python 3",
   "language": "python",
   "name": "python3"
  },
  "language_info": {
   "codemirror_mode": {
    "name": "ipython",
    "version": 3
   },
   "file_extension": ".py",
   "mimetype": "text/x-python",
   "name": "python",
   "nbconvert_exporter": "python",
   "pygments_lexer": "ipython3",
   "version": "3.6.1"
  }
 },
 "nbformat": 4,
 "nbformat_minor": 2
}
