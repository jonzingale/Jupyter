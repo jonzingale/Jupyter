{
 "cells": [
  {
   "cell_type": "markdown",
   "metadata": {},
   "source": [
    "https://oeis.org/wiki/List_of_LaTeX_mathematical_symbols#Set_and.2For_logic_notation\n"
   ]
  },
  {
   "cell_type": "markdown",
   "metadata": {},
   "source": [
    "https://golem.ph.utexas.edu/category/2011/01/entailment_and_implication.html\n",
    "```\n",
    "Re: Entailment and Implication\n",
    "MathML-enabled post (click for more details).\n",
    "(Note: In reading the following, you should think of a logical system as a notion of category-with-structure, and particular theories within that logical system as particular such categories-with-structure; propositions correspond to objects, morphisms to proofs of entailments/sequents, and equality of morphisms to equality (in a suitable proof-theoretic sense) of proofs. Thus, Hom(𝐴,𝐵) corresponds, in some sense, to (the set of proofs of) 𝐴⊢𝐵. Furthermore, 𝐴∧𝐵 (conjunction) corresponds to the categorical product 𝐴×𝐵 [as the nullary case, ⊤ (empty conjunction; i.e., truth) corresponds to the terminal object 1], and 𝐴⊃𝐵 (implication) corresponds to the categorical exponential 𝐵𝐴. The modal operator □, in turn, is a product-preserving endofunctor whose exact further details are not of terrible importance to us right now)\n",
    "\n",
    "There’s two slightly different senses in which one might refer to the “deduction theorem”: one is the sense in which proofs of 𝛤⊢𝐴⊃𝐵 correspond to proofs of 𝛤∧𝐴⊢𝐵; this is just the defining adjunction of exponentiation in a cartesian closed category, which can be viewed as the intro/elim rules for implication in a suitably sequent-style presentation. This still holds perfectly well in provability logic. This is the sense referred to by Mike Shulman above (though not using the term “deduction theorem”).\n",
    "\n",
    "Another sense in which one might refer to the “deduction theorem” is as a sense in which proofs of 𝐴⊢𝐵, in the background context of whatever assumed entailments, correspond to proofs of ⊤⊢𝐵 given the further assumption of an entailment ⊤⊢𝐴; that is, as a correspondence between morphisms from 𝐴 to 𝐵 in a category-with-structure 𝐶, on the one hand, and, on the other, global sections of 𝐵 in the free category-with-structure extending 𝐶 with a global section of 𝐴. For example, cartesian closed categories (modelling propositional intuitionistic logic) have this property as well; freely augmenting a cartesian closed category C with a global section of some object A results in the Kleisli category C[A] of the functor 𝐴∧−, and there is an obvious correspondence between 𝐶[𝐴](⊤,𝐵) and 𝐶(𝐴,𝐵).\n",
    "\n",
    "This second sense is the sense of “the deduction theorem” which fails in provability logic, suitably construed; provability logic does indeed allow one to conclude ⊤⊢□𝐴 from ⊤⊢𝐴, as noted, but does not have 𝐴⊢□𝐴 as a general theorem. (A more categorical way to put this failure is that the □ functor is not an enriched functor [for the cartesian closed structure]; we do not have 𝐴⊃𝐵⊢□𝐴⊃□𝐵. The failure of this functor to be enriched with respect to internal implication is characteristic of “modality”)\n",
    "\n",
    "That is, the distinction between the two senses of “the deduction theorem” is once again one between different levels of entailment; the turnstile of sequents vs. the horizontal line of rules of inference between sequents (an even more “external” level of entailment than the turnstile), which is to say, looking at the hom-sets of a category vs. looking at the result of freely adding a global section to a category.\n",
    "```"
   ]
  },
  {
   "cell_type": "markdown",
   "metadata": {},
   "source": [
    "Stack Exchange somewhere:\n",
    "```\n",
    "We have to differentiate between two levels of abstraction:\n",
    "\n",
    "* Formal Systems\n",
    "* Models\n",
    "\n",
    "and we have to differentiate between three symbols:\n",
    "\n",
    "* ⊨\n",
    "* ⊢\n",
    "* ⟹\n",
    "\n",
    "A model is an instance of a formal system: it satisfies the rules of inference of a given formal system, satisfies any axioms the formal system imposes, and has the same grammar as the formal system.\n",
    "\n",
    "Given a set of formulas Γ from a formal system 𝐹𝑆 and another formula 𝐴 we say that Γ⊢𝐴<br>\n",
    "if there is a formal proof in 𝐹𝑆 of 𝐴 from Γ. This is called syntactic consequence.<br>\n",
    "$(Γ\\vdash𝐴) \\subset FS$\n",
    "\n",
    "Given a set of formulas Γ from a formal system 𝐹𝑆 and another formula 𝐴 we say that Γ⊨𝐴<br>\n",
    "if there is no model of 𝐹𝑆 in which all members of Γ are true and 𝐴 is false.<br>\n",
    "This is called semantic consequence.<br>\n",
    "- Γ evidences A, $Γ \\models A$ asserts that if all Γ are true then A is true regardless of model.\n",
    "<p>\n",
    "\n",
    "The thing we call implication and usually represented by ⟹ is a logical symbol of a formal system. The formal system is where the rules of deduction regarding ⟹ are spelled out. For instance 'conditional proof' is usually a rule of inference for a formal system which says that if 𝐹𝑆∪{𝑇}⊢𝑇′\n",
    "\n",
    "∴𝑇⟹𝑇′ (where 𝑇 and 𝑇′ are formulas). Modus ponens is another typical rule of inference that concerns ⟹.\n",
    "\n",
    "We sometimes use ⊢ with a model $M$. The string of symbols $M \\vdash A$ means that $M$ entails 𝐴. That is, there is a set of formulas of the formal system which  asserts as true, and this set syntactically implies 𝐴 in the formal system which  instantiates.\n",
    "\n",
    "There is another usage of ⊨ you should know of which involves a model. The string of symbols $M \\models A$ means that $M$ is a model of the formal system in which 𝐴 is true.\n",
    "```"
   ]
  },
  {
   "cell_type": "markdown",
   "metadata": {
    "collapsed": true
   },
   "source": [
    "__Basic Model Theory__  - Kees Doets\n",
    "\n",
    "\n",
    "An $A$-assignment is a function from the set of all variables into the universe A of $A$.<p>\n",
    "__satisfaction of Formulas__\n",
    "Let L be a vocabulary, $A$ an L-model and $\\alpha$ an $A$-assignment.<br>\n",
    "For every formula $\\phi$, the statement $A \\models \\phi[\\alpha]$,\n",
    "$\\ \\phi\\ is\\ satisfied\\ by\\ \\alpha\\ in\\ A$, is defined by the following rules:<p>\n",
    "\n",
    "$A \\models (s=t)[\\alpha] \\iff s^A[\\alpha] = t^A[\\alpha]$ (on equality)<br>\n",
    "$A \\models r(t_1,...,t_n)[\\alpha] \\iff r^A(t_1^A[\\alpha],...,t_n^A[\\alpha])$ (on relations)<br>\n",
    "$A \\models \\neg\\phi[\\alpha] \\iff A \\not\\models \\phi [\\alpha]$ (negation)<br>\n",
    "$A \\models (\\phi \\wedge \\psi)[\\alpha] \\iff A \\models \\phi[\\alpha]\\ and\\ A \\models \\psi[\\alpha]$ (similar for other connectives)<br>\n",
    "$A \\models \\exists x \\phi[\\alpha] \\iff\\ for\\ some\\ a \\in A,\\ A \\models \\phi [\\alpha_a^x]$ (similar for $\\forall$)<p>\n",
    "\n",
    "$\\alpha_a^x$ stands for the modification of $\\alpha$ that sends the variable $x$ to $a$,<br>\n",
    "but is otherwise the same for $\\alpha$.<p>"
   ]
  },
  {
   "cell_type": "markdown",
   "metadata": {
    "collapsed": true
   },
   "source": [
    " "
   ]
  }
 ],
 "metadata": {
  "kernelspec": {
   "display_name": "Python 3",
   "language": "python",
   "name": "python3"
  },
  "language_info": {
   "codemirror_mode": {
    "name": "ipython",
    "version": 3
   },
   "file_extension": ".py",
   "mimetype": "text/x-python",
   "name": "python",
   "nbconvert_exporter": "python",
   "pygments_lexer": "ipython3",
   "version": "3.6.1"
  }
 },
 "nbformat": 4,
 "nbformat_minor": 2
}
