{
 "cells": [
  {
   "cell_type": "markdown",
   "metadata": {},
   "source": [
    "# Objectifying Things:\n",
    "## The inclusion of things into a category of properties.\n",
    "\n",
    "### Introduction.\n",
    "This work is concerned with the problem of formalizing logical inference a' la Pierce.<br>\n",
    "To approach such a problem it may well be necessary to examine those ephemeral<br>\n",
    "and possibly tenuous connections between the $Thing$ and the $Object$. From the<br>\n",
    "perspective of an objectifying science, the thing is ever elusive. It has no properties<br>\n",
    "aside from those we glean from objectification and in some senses can never be talked<br>\n",
    "about directly. Objects for us are the real. When we speak about this or that we are<br>\n",
    "speaking of classes, namely classes of objects, and it these classes we come to make<br>\n",
    "propositions about. Still, we have objectified *something* and this *something* we<br>\n",
    "come to know through the objectification process, ie. the relations between the $Thing$<br>\n",
    "and the $Object$ (here interpreted as an instantiation in a category of $Properties$).<br>\n",
    "It is this interpretation in which the following work is developed.<p>\n",
    "\n",
    "### Faux-Functors\n",
    "Note, the objectifying functor is not a proper functor as things are exactly not objects,<br>\n",
    "and as such there is no sense asking about parts of things, only parts of objectified things.<br>\n",
    "This ugly detail will be ignored for the purposes of this text. It will be left as an exercise<br>\n",
    "for the future to determine what such a faux-functor can even be.<p>\n",
    "\n",
    "### Induction.\n",
    "\n",
    "Holding fixed a known thing, induction is the process of extrapolating properties.<br>\n",
    "To perform an induction one must assume the objectified thing to be known, that is,<br>\n",
    "one asserts the existence of an objectifying functor, $objectify: Things \\to Properties$,<br>\n",
    "which is full and faithful wrt each class. Put another way, relations between things are<br>\n",
    "*reflected* in the relations between the properties of the things.<p>\n",
    "\n",
    "For any given thing, $objectify$ gives an inclusion mapping for each possible property, ie<br>\n",
    "for any given property the value of the thing is decideable relative to the property.<br>\n",
    "Given a $duck$ the $objectify$ returns a listing:<p>\n",
    "$d_{color}: the ducks color \\to Colors$<br>\n",
    "$d_{walk}: the ducks walk \\to Walks$<br>\n",
    "$d_{talk}: the ducks talk \\to Talks$<br>\n",
    "$...$<p>\n",
    "Each $d_i$ is the inclusion of the duck with respect to a given property such as color.<br>\n",
    "I suspect that $objectify$ is natural and each $d_i$ is a component.<p>\n",
    "\n",
    "There are some ways induction can go horribly wrong:<p>\n",
    "* There are ducks that are not white (the particular doesn't cover the general).<br>\n",
    "* This duck is here but not all ducks are here (has properties not shared by the class)<br>\n",
    "* This duck is white like that cup is white (properties aren't particular to the class)<br>\n",
    "\n",
    "### Abduction.\n",
    "There are some ways abduction can go horribly wrong:<p>\n",
    "* Evidence shows the cricket like thing to be more phone like than cricket like (insufficient evidence).<br>\n",
    "* There are ducks that are not white (the particular doesn't cover the general, here not so bad).<br>\n",
    "\n",
    "\n",
    "__What is a class?__<br>\n",
    "Given an object $C$ in a category of properties, a class (or population) is the subobject $D$<br>\n",
    "of $C$, specifically the subobject which completely specifies a population with respect to $C$.<br>\n",
    "For instance, an object in a category of properties might be $Color$. The inclusion of a duck<br>\n",
    "into this category is a functor $incl_{color}: Things \\hookrightarrow Properties$ which for a given duck<br>\n",
    "returns propositions about its color, $incl_{color}(duck) \\mapsto [white_{x0}, grey_{x1},... ]$<br>\n",
    "\n",
    "The color of a duck's parts can be given by the inclusion, $Duck_{color}: D \\to Color$.<br>\n",
    "\n",
    "### Two complicated snags.\n",
    "\n",
    "#### Bybee's objection:\n",
    "One could be looking for their aunt, the one with long hair. Upon seeing someone like her the decision<br>\n",
    "must be made to either reject her on account of short hair or accept her despite the short hair (forcing<br>\n",
    "a revision of ones internal model).\n",
    "\n",
    "#### Nick's objection:\n",
    "Classes may be fictitious. One may look far and wide for consciousness or El Dorado, but in vain. "
   ]
  },
  {
   "cell_type": "markdown",
   "metadata": {
    "collapsed": true
   },
   "source": [
    "### Representation in Linear Algebra\n",
    "\n",
    "Letting the category of Vector spaces be a category of properties, inclusion of a particular can<br>\n",
    "seen as a vector where each basis element corresponds to the value the particular takes on each<br>\n",
    "property. In machine learning practice, this technique is often used (eg. recommendation systems)<br>\n",
    "to take guesses as to what additional variation in properties one might find (induction) and to<br>\n",
    "predict what classes may exist to classify individuals (abduction). The problem then of finding<br>\n",
    "new properties (induction) becomes one of finding hidden dimensions."
   ]
  },
  {
   "cell_type": "markdown",
   "metadata": {},
   "source": [
    "### Formally,\n",
    "\n",
    "Induction: $P(A) \\vdash \\forall x.P(x)$<br>\n",
    "Abduction: $P(x) \\to Q(x), Q(a) \\vdash P(a)$"
   ]
  },
  {
   "cell_type": "markdown",
   "metadata": {},
   "source": [
    "Entities, Sensing, Properties"
   ]
  },
  {
   "cell_type": "markdown",
   "metadata": {
    "collapsed": true
   },
   "source": [
    "#### Implication Versus Entailment\n",
    "\n",
    "Implication. (φ → ψ) is true iff (¬φ ∨ ψ) is true.\n",
    "\n",
    "Entailment. (Γ ⊨ ψ) is true iff every interpretation that makes all φ ∈ Γ true, makes ψ true."
   ]
  },
  {
   "cell_type": "markdown",
   "metadata": {
    "collapsed": true
   },
   "source": [
    "### Probable Primes and  Consequences:\n",
    "\n",
    "As is well known, the partial converse to Fermat's little theorem, $a^p \\equiv a\\ mod\\  p$,<br>\n",
    "is a useful tool for checking the primality of a given number $p$ and gives rise to an intuitive<br>\n",
    "Monte Carlo technique which converges upon a nearly-Las Vegas algorithm in the limit. That is,<br>\n",
    "as one considers agreeable `witnesses` to the primality of a number the probability that the number<br>\n",
    "is prime increases. Once one has considered all witnesses $2...p$ and they are found to be agreeable<br>\n",
    "the number is either prime or a rare composite called a Carmichael number. Once any disagreeable<br>\n",
    "witness are found, the algorithm can terminate with the certainty that the said number is composite.<p>\n",
    "\n",
    "as stated above:\n",
    "```\n",
    "Given a set of formulas Γ from a formal system 𝐹𝑆 and another formula 𝐴 we say that Γ⊨𝐴\n",
    "if there is no model of 𝐹𝑆 in which all members of Γ are true and 𝐴 is false.\n",
    "This is called semantic consequence.\n",
    "```\n",
    "Let us imagine that Γ is the statement of Fermat's little theorem, that each witness to the<br>\n",
    "compositeness of $p$ is a model for Γ, and that $A$ is the assertion that $p$ is composite.<br>\n",
    "Carmichael numbers can then be constued as the case where $\\Gamma\\not\\models A$.<p>\n",
    "\n",
    "Can such an idea be extended to parallel the process of induction or abduction,<br>\n",
    "via the associated Las Vegas algorithm?"
   ]
  },
  {
   "cell_type": "code",
   "execution_count": null,
   "metadata": {
    "collapsed": true
   },
   "outputs": [],
   "source": []
  }
 ],
 "metadata": {
  "kernelspec": {
   "display_name": "Python 3",
   "language": "python",
   "name": "python3"
  },
  "language_info": {
   "codemirror_mode": {
    "name": "ipython",
    "version": 3
   },
   "file_extension": ".py",
   "mimetype": "text/x-python",
   "name": "python",
   "nbconvert_exporter": "python",
   "pygments_lexer": "ipython3",
   "version": "3.6.1"
  }
 },
 "nbformat": 4,
 "nbformat_minor": 2
}
