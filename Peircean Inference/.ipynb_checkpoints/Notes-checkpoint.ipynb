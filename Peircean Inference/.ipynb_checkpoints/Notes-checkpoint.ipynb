{
 "cells": [
  {
   "cell_type": "markdown",
   "metadata": {},
   "source": [
    "## From Wiki:\n",
    "https://en.wikipedia.org/wiki/Direct_limit#Algebraic_objects\n",
    "\n",
    "__Intuitive discussion of inductive limits:__<br>\n",
    "$\\underrightarrow{\\rm Lim}\\ A_i := \\coprod\\ A_i/\\sim$, where if $x_i \\in A_i$ and $x_j \\in A_j$<br>\n",
    "then $x_i\\ \\sim\\ x_j$ iff $\\exists k \\in I$ with $i \\leq k$ and $j \\leq k$ such that<br>\n",
    "$f_{ik}(x_i) =\\ f_{jk}(x_j)$, ie.<br>\n",
    "```\n",
    "Two elements in the disjoint union are equivalent iff\n",
    "they 'eventually become equal' in the directed system.\n",
    "```\n",
    "\n",
    "__Examples of inductive limits:__<br>\n",
    "A collection of subsets $\\displaystyle M_{i}$ of a set M can be partially ordered by inclusion. If the collection is directed, its direct limit is the union $\\displaystyle \\bigcup M_{i}$. The same is true for a directed collection of subgroups of a given group, or a directed collection of subrings of a given ring, etc.<p>\n",
    "\n",
    "Let I be any directed set with a greatest element m. The direct limit of any corresponding direct system is isomorphic to $X_m$ and the canonical morphism $\\phi_m: X_m \\to X$ is an isomorphism.<p>\n",
    "\n",
    "Let K be a field. For a positive integer n, consider the general linear group GL(n;K) consisting of invertible n x n - matrices with entries from K. We have a group homomorphism GL(n;K) → GL(n+1;K) which enlarges matrices by putting a 1 in the lower right corner and zeros elsewhere in the last row and column. The direct limit of this system is the general linear group of K, written as GL(K). An element of GL(K) can be thought off as an infinite invertible matrix which differs from the infinite identity matrix in only finitely many entries. The group GL(K) is of vital importance in algebraic K-theory.<p>\n",
    "\n",
    "Let p be a prime number. Consider the direct system composed of the factor groups $Z/p^nZ$ and the homomorphisms $Z/p^nZ → Z/p^{n+1}Z$ induced by multiplication by p. The direct limit of this system consists of all the roots of unity of order some power of p, and is called the Prüfer group Z(p∞).\n",
    "There is a (non-obvious) injective ring homomorphism from the ring of symmetric polynomials in n variables to the ring of symmetric polynomials in n+1 variables. Forming the direct limit of this direct system yields the ring of symmetric functions.<p>\n",
    "\n",
    "Let F be a C-valued sheaf on a topological space X. Fix a point x in X. The open neighborhoods of x form a directed set ordered by inclusion (U ≤ V if and only if U contains V). The corresponding direct system is $(F(U), r_{U,V})$ where r is the restriction map. The direct limit of this system is called the stalk of F at x, denoted $F_x$. For each neighborhood U of x, the canonical morphism $F(U) \\to F_x$ associates to a section s of F over U an element $s_x$ of the stalk $F_x$ called the germ of s at x.<p>\n",
    "\n",
    "Direct limits in the category of topological spaces are given by placing the final topology on the underlying set-theoretic direct limit."
   ]
  },
  {
   "cell_type": "code",
   "execution_count": null,
   "metadata": {
    "collapsed": true
   },
   "outputs": [],
   "source": []
  }
 ],
 "metadata": {
  "kernelspec": {
   "display_name": "Python 3",
   "language": "python",
   "name": "python3"
  },
  "language_info": {
   "codemirror_mode": {
    "name": "ipython",
    "version": 3
   },
   "file_extension": ".py",
   "mimetype": "text/x-python",
   "name": "python",
   "nbconvert_exporter": "python",
   "pygments_lexer": "ipython3",
   "version": "3.6.1"
  }
 },
 "nbformat": 4,
 "nbformat_minor": 2
}
