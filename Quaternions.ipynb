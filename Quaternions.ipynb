{
 "cells": [
  {
   "cell_type": "markdown",
   "metadata": {
    "collapsed": true
   },
   "source": [
    "Quaternions:\n",
    "$1 \\to \\mathrm{Z}_2 \\to \\operatorname{Spin}(n) \\to \\operatorname{SO}(n) \\to 1$\n",
    "\n",
    "Hamilton Multiplication:\n",
    "\n",
    "${\\begin{aligned}(a_{1},\\ b_{1},\\ c_{1},\\ d_{1})&(a_{2},\\ b_{2},\\ c_{2},\\ d_{2})=\\\\&=(a_{1}a_{2}-b_{1}b_{2}-c_{1}c_{2}-d_{1}d_{2},\\\\&{}\\qquad a_{1}b_{2}+b_{1}a_{2}+c_{1}d_{2}-d_{1}c_{2},\\\\&{}\\qquad a_{1}c_{2}-b_{1}d_{2}+c_{1}a_{2}+d_{1}b_{2},\\\\&{}\\qquad a_{1}d_{2}+b_{1}c_{2}-c_{1}b_{2}+d_{1}a_{2}).\\end{aligned}}$\n"
   ]
  },
  {
   "cell_type": "code",
   "execution_count": 2,
   "metadata": {
    "collapsed": true
   },
   "outputs": [],
   "source": [
    "data Q a = Q a a a a deriving(Eq, Show)\n",
    "\n",
    "instance (Num a, Integral a) => Num (Q a) where\n",
    "  Q a b c d + Q e f g h = Q (a+e) (b+f) (c+g) (d+h) \n",
    "  Q a b c d * Q e f g h =\n",
    "      let u = a*e-b*f-c*g-d*h in\n",
    "      let i = a*f+b*e+c*h-d*g in\n",
    "      let j = a*g-b*h+c*e+d*f in\n",
    "      let k = a*h+b*g-c*f+d*e in\n",
    "      Q u i j k\n",
    "  fromInteger n = Q (fromInteger n) 0 0 0\n",
    "  "
   ]
  },
  {
   "cell_type": "code",
   "execution_count": 3,
   "metadata": {},
   "outputs": [
    {
     "data": {
      "text/plain": [
       "Q (-48) 13 56 31"
      ]
     },
     "metadata": {},
     "output_type": "display_data"
    }
   ],
   "source": [
    "Q 1 2 3 4 * Q 9 8 7 5"
   ]
  },
  {
   "cell_type": "code",
   "execution_count": null,
   "metadata": {
    "collapsed": true
   },
   "outputs": [],
   "source": []
  }
 ],
 "metadata": {
  "kernelspec": {
   "display_name": "Haskell",
   "language": "haskell",
   "name": "haskell"
  },
  "language_info": {
   "codemirror_mode": "ihaskell",
   "file_extension": ".hs",
   "name": "haskell",
   "version": "8.0.2"
  }
 },
 "nbformat": 4,
 "nbformat_minor": 2
}
