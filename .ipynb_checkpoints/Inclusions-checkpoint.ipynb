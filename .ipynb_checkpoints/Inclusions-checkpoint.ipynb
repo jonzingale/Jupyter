{
 "cells": [
  {
   "cell_type": "markdown",
   "metadata": {},
   "source": [
    "# Objectifying Things. Inclusions into a category of properties.\n",
    "\n",
    "### Induction.\n",
    "\n",
    "Holding fixed a known thing, induction is the process of extrapolating properties.<br>\n",
    "To perform an induction one must assume the objectified thing to be known, that is,<br>\n",
    "the objectifying functor, $object: Things \\to Properties$, is fully faithful wrt the class.<br>\n",
    "For any given thing, the functor gives a subobject inclusion mapping on all possible properties.<br>\n",
    "$object(Duck) \\rightarrow [d_0, d_1, ...]$ where each $d_i$ is the inclusion of the duck wrt a given property<br>\n",
    "such as color.\n",
    "\n",
    "__What is a class?__<br>\n",
    "Given an object $C$ in a category of properties, a class (or population) is the subobject $D$<br>\n",
    "of $C$, specifically the subobject which completely specifies a population with respect to $C$.<br>\n",
    "For instance, an object in a category of properties might be $Color$. The inclusion of a duck<br>\n",
    "into this category is a functor $incl_{color}: Things \\hookrightarrow Properties$ which for a given duck<br>\n",
    "returns propositions about its color, $incl_{color}(duck) \\mapsto [white_{x0}, grey_{x1},... ]$<br>\n",
    "\n",
    "The color of a duck's parts can be given by the inclusion, $Duck_{color}: D \\to Color$.<br>"
   ]
  },
  {
   "cell_type": "code",
   "execution_count": null,
   "metadata": {
    "collapsed": true
   },
   "outputs": [],
   "source": []
  }
 ],
 "metadata": {
  "kernelspec": {
   "display_name": "Python 3",
   "language": "python",
   "name": "python3"
  },
  "language_info": {
   "codemirror_mode": {
    "name": "ipython",
    "version": 3
   },
   "file_extension": ".py",
   "mimetype": "text/x-python",
   "name": "python",
   "nbconvert_exporter": "python",
   "pygments_lexer": "ipython3",
   "version": "3.6.1"
  }
 },
 "nbformat": 4,
 "nbformat_minor": 2
}
