{
 "cells": [
  {
   "cell_type": "markdown",
   "metadata": {},
   "source": [
    "__2. Directed Limits or Inductive Limits__\n",
    "\n",
    "Consider a category $\\omega$, whose objects can be thought of<br>\n",
    "as an ascending chain of ordinals with inclusion mappings.<p>\n",
    "$\\omega = A_0 \\to A_1 \\to A_2 \\to ... \\to A_n \\to ...$<p>\n",
    "Consider a functor $F: \\omega \\to Set$ from $\\omega$ to the $Set$ which maps<br>\n",
    "every arrow of $\\omega$ to an inclusion. Such a functor $F$ is simply a nested<br>\n",
    "sequence of sets $F_0 \\subset F_1 \\subset F_2 \\subset\\ ...$. The union $U$ of all sets $F_n$,<br>\n",
    "with the cone given by inclusions maps $F_n \\to U$ is the called the<br>\n",
    "inductive limit or directed limit, $\\underrightarrow{\\rm Lim}\\ F$ (sometimes $CoLim\\ F$).\n"
   ]
  },
  {
   "cell_type": "markdown",
   "metadata": {
    "collapsed": true
   },
   "source": [
    "__1. Jazz Rhythm and Bird Clouds as Limits.__<br>\n",
    "Each performer keeps time internally but corrects externally.<br>"
   ]
  },
  {
   "cell_type": "code",
   "execution_count": null,
   "metadata": {
    "collapsed": true
   },
   "outputs": [],
   "source": []
  }
 ],
 "metadata": {
  "kernelspec": {
   "display_name": "Python 3",
   "language": "python",
   "name": "python3"
  },
  "language_info": {
   "codemirror_mode": {
    "name": "ipython",
    "version": 3
   },
   "file_extension": ".py",
   "mimetype": "text/x-python",
   "name": "python",
   "nbconvert_exporter": "python",
   "pygments_lexer": "ipython3",
   "version": "3.6.1"
  }
 },
 "nbformat": 4,
 "nbformat_minor": 2
}
