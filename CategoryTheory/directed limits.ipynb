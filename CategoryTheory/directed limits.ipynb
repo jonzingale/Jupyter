{
 "cells": [
  {
   "cell_type": "markdown",
   "metadata": {},
   "source": [
    "__1. Directed Limits or Inductive Limits__\n",
    "\n",
    "Consider a category $\\omega$, whose objects can be thought of<br>\n",
    "as an ascending chain of ordinals with inclusion mappings.<p>\n",
    "$\\omega = A_0 \\to A_1 \\to A_2 \\to ... \\to A_n \\to ...$<p>\n",
    "Consider a functor $F: \\omega \\to Set$ from $\\omega$ to the $Set$ which maps<br>\n",
    "every arrow of $\\omega$ to an inclusion. Such a functor $F$ is simply a nested<br>\n",
    "sequence of sets $F_0 \\subset F_1 \\subset F_2 \\subset\\ ...$. The union $U$ of all sets $F_n$,<br>\n",
    "with the cone given by inclusions maps $F_n \\to U$ is the called the<br>\n",
    "inductive limit or directed limit, $\\underrightarrow{\\rm Lim}\\ F$ (sometimes $CoLim\\ F$).<br>"
   ]
  },
  {
   "cell_type": "markdown",
   "metadata": {
    "collapsed": true
   },
   "source": [
    "__2. Jazz Rhythm and Bird Clouds as Limits.__<br>\n",
    "* Each performer keeps time internally but corrects externally.<br>\n",
    "* At any moment, each bird flying in a flock refers to some other bird in the flock.<br>\n",
    "  These referrals give rise to an acyclic graph whose inverse limit can be called<br>\n",
    "  the flock's `center` and whose inductive limit can be called a `bird cloud`."
   ]
  },
  {
   "cell_type": "markdown",
   "metadata": {
    "collapsed": true
   },
   "source": [
    "__3. Why directed limits and categorical description__?<br>\n",
    "Categories give a formal and rigorous framework for describing many phenomena pertaining to human experience. For instance; the category $Set$ encodes intuitions regarding size, the category $Vect$ encodes intuitions regarding dimension, and the category $Group$ encodes intuitions regarding symmetry. When we objectify a thing, attributing the property of having this or that symmetry to it, we can trace transformations of or comparisons with this symmetry via mappings between groups. Formal metaphors relating one kind of property to another can then be construed as relations between categories. In the local jargon, these relations between categories are called functors.<p>\n",
    "\n",
    "The construction of directed limits is general enough that if we can construct such an inductive limit for $Vect$ and another for $Group$, we may be readily able to relate both systems unambiguously. This *higher level* quality of categorical metaphor-making is possibly what we need to speak about inference. When we make an abduction, for instance, we do not specify a class devoid of context. Rather, we aim to place the class in a constellation of inter-related classes, ie. a system of metaphors."
   ]
  },
  {
   "cell_type": "code",
   "execution_count": null,
   "metadata": {
    "collapsed": true
   },
   "outputs": [],
   "source": []
  }
 ],
 "metadata": {
  "kernelspec": {
   "display_name": "Python 3",
   "language": "python",
   "name": "python3"
  },
  "language_info": {
   "codemirror_mode": {
    "name": "ipython",
    "version": 3
   },
   "file_extension": ".py",
   "mimetype": "text/x-python",
   "name": "python",
   "nbconvert_exporter": "python",
   "pygments_lexer": "ipython3",
   "version": "3.6.1"
  }
 },
 "nbformat": 4,
 "nbformat_minor": 2
}
