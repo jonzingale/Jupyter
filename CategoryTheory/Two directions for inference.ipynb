{
 "cells": [
  {
   "cell_type": "markdown",
   "metadata": {},
   "source": [
    "### Two directions in the study of induction and abduction.\n",
    "\n",
    "__0. Induction prepares for abduction.__<br>\n",
    "As Carl Sagan once humourously put it about the planet Venus in an episode of Cosmos,<br>\n",
    "\"Observation, can't see a thing. Conclusion, dinosaurs.\" Such a statement can be interpreted<br>\n",
    "as deducing the property `dinosaurs` from an empty premise, namely `can't see a thing`.<br>\n",
    "This statement is premised on an induction:<br>\n",
    "```\n",
    "Given Venus and its relationship to the class of things\n",
    "which can't be seen, Venus must have dinosaurs.\n",
    "```\n",
    "Co-manifested with this claim is the introduction of the class `dinosaur` into<br>\n",
    "the collection of possible classes which a visitor to Venus may come to rely upon<br>\n",
    "when attempting to identify an observation. In this way, induced properties can<br>\n",
    "become classes for later abductions.<p>\n",
    "\n",
    "__1. Induction as colimit.__<br>\n",
    "Proceeding as a purely inductive being, one begins by finding a duck.<br>\n",
    "This duck has properties and so it can be inferred that some other bird<br>\n",
    "with all such properties is also a duck. If it fails to have such properties,<br>\n",
    "it isn't a duck. Let's imagine that another duck is found with excess<br>\n",
    "properties. Here, we must incorporate these excess properties, expanding<br>\n",
    "the meaning of duck. I am imagining a never restricting class of nested<br>\n",
    "inferences:<p>\n",
    "\n",
    "$D_0 \\to D_1 \\to D_2 \\to ... \\to D_n \\to ...$ whose arrows form the sequence<br>\n",
    "$(\\delta_{01}, \\delta_{12}, \\delta_{23}, ..., \\delta_{n(n+1)},...)$\n",
    "\n",
    "where each example $D_i$ contributes to the overall understanding of what it means<br>\n",
    "to be a duck, $D_i \\to \\coprod D_i$. Similarity of properties at each stage, $D_i$ and $D_j$ say,<br>\n",
    "become indistinguishable in the limit and so are related by an equivalence relation.<br>\n",
    "The limit of such a process gives an object $\\coprod\\ A_i/ \\sim$ called the inductive limit and<br>\n",
    "is denoted $\\underrightarrow{\\rm Lim}\\ A_i$. The sequence $(\\delta_{01}, \\delta_{12}, \\delta_{23}, ..., \\delta_{n(n+1)},...)$ can be thought<br>\n",
    "of as induction. A valid induction is one where every arrow commutes given a well<br>\n",
    "defined inductive limit.<p>\n",
    "\n",
    "\n",
    "__2. Correct abduction as verified world.__<br>\n",
    "If one has $\\Diamond(\\phi \\to \\psi) \\vdash (\\phi \\to \\psi)$ then one has made an *abduction*.<br>\n",
    "The first statement asserts that there exists a world (or collection of worlds)<br>\n",
    "such that $\\phi \\to \\psi$. This second statement claims that *this world* is<br>\n",
    "the selected possible world (or among the selected possible worlds).<br>\n",
    "Note that one begins by relating $\\Diamond(\\phi \\to \\psi)$ to $(\\phi \\to \\psi)$ via the sequent<br>\n",
    "$\\Diamond(\\phi \\to \\psi) : (\\phi \\to \\psi)$. Once one verifies this relationship we can then<br>\n",
    "claim $\\Diamond(\\phi \\to \\psi) \\vdash (\\phi \\to \\psi)$. Above are statements over propositions.<br>\n",
    "If instead we prefer to speak in terms of parts and implicates then we<br>\n",
    "can write this as an extension: $[\\hat{x} \\mid \\Diamond(\\phi \\to \\psi)] \\implies [\\hat{x} \\mid \\phi \\to \\psi]$.<p>\n",
    "\n",
    "How about induction as the dual relation: $(\\phi \\to \\psi) \\vdash \\Box(\\phi \\to \\psi)$,<br>\n",
    "does this seem likely?"
   ]
  },
  {
   "cell_type": "code",
   "execution_count": null,
   "metadata": {
    "collapsed": true
   },
   "outputs": [],
   "source": []
  }
 ],
 "metadata": {
  "kernelspec": {
   "display_name": "Python 3",
   "language": "python",
   "name": "python3"
  },
  "language_info": {
   "codemirror_mode": {
    "name": "ipython",
    "version": 3
   },
   "file_extension": ".py",
   "mimetype": "text/x-python",
   "name": "python",
   "nbconvert_exporter": "python",
   "pygments_lexer": "ipython3",
   "version": "3.6.1"
  }
 },
 "nbformat": 4,
 "nbformat_minor": 2
}
