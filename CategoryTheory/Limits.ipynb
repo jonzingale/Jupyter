{
 "cells": [
  {
   "cell_type": "markdown",
   "metadata": {},
   "source": [
    "### Categorical limits and their duals.\n",
    "\n",
    "__0. A brief word about a category named Set.__\n",
    "\n",
    "$Set$ is a category whose objects can be thought of as a bag of dots, and<br>\n",
    "whose morphisms (called functions) connect all of the dots in one bag<br>\n",
    "to some of the dots in another. While externally we represent a function $f$,<br>\n",
    "from a set $A$ to a set $B$ as $f: A \\to B$, internally we may have something<br>\n",
    "like: $a \\mapsto x,\\ b \\mapsto x,\\ c \\mapsto y$ for {a, b, c} in $A$ and {x, y, w} in $B$.<br>\n",
    "\n",
    "\n",
    "__1. Universal Mapping Properties.__\n",
    "\n",
    "Solving mathematical riddles is a popular game for mathematicians. For instance<br>\n",
    "one might ask,<br>\n",
    "```\n",
    "Is there a set T with the amazing property that given\n",
    "any other set W, only one function exists from W to T?\n",
    "```\n",
    "In other words, can I think of a set T with only one function $f: W \\to T$, from<br>\n",
    "any other set $W$ I can think of? After a some time, I perhaps stumble upon<br>\n",
    "a set with a single dot inside. When such a set is finally found, the set and the<br>\n",
    "unique function solving the riddle are considered interesting. The property<br>\n",
    "that is satisfied by the function is then called a universal mapping property.<p>\n",
    "\n",
    "another such riddle is,<p>\n",
    "`Is there a set T with a pair of functions` $\\ f: T \\to P$ and $g: T \\to Q$<br>\n",
    "`with the amazing property that given any other set W with a pair`<br>\n",
    "`of functions` $\\ f: W \\to P$ and $g: W \\to Q$ `, only one function exists`<br>\n",
    "`from W to T?`\n",
    "<p>\n",
    "\n",
    "This riddle is a bit more complicated because its solution requires three things.<br>\n",
    "To solve the riddle we must not only find a set $T$ but also two functions $f$ and $g$<br> which satisfy the riddle.<p>\n",
    "\n",
    "Solutions to riddles like these, where the unique function maps from any set $W$<br>\n",
    "*to* our specially selected set $T$, are lovingly called limits. Dually, we can<br>\n",
    "find universal mapping properties by reversing the relation. For instance:<br>\n",
    "\n",
    "```\n",
    "Is there a set I with the amazing property that given\n",
    "any other set W, only one function exists from I to W?\n",
    "```\n",
    "\n",
    "This time, after a little thought I come across the empty set $\\emptyset$. Solutions to riddles<br>\n",
    "like these, where the unique function maps to any set $W$ *from* our specially selected<br>\n",
    "set $I$, are lovingly called co-limits. Perhaps unsurprisingly, these constructions can be<br>\n",
    "formalized in a more general setting. For those interested in the formalization involving<br>\n",
    "universal cones over diagrams or the development of limits and co-limits to categories<br>\n",
    "other than Set, see 'Categories for the Working Mathematician' by Saunders MacLane."
   ]
  }
 ],
 "metadata": {
  "kernelspec": {
   "display_name": "Python 3",
   "language": "python",
   "name": "python3"
  },
  "language_info": {
   "codemirror_mode": {
    "name": "ipython",
    "version": 3
   },
   "file_extension": ".py",
   "mimetype": "text/x-python",
   "name": "python",
   "nbconvert_exporter": "python",
   "pygments_lexer": "ipython3",
   "version": "3.6.1"
  }
 },
 "nbformat": 4,
 "nbformat_minor": 2
}
