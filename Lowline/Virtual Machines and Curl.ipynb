{
 "cells": [
  {
   "cell_type": "markdown",
   "metadata": {},
   "source": "### Virtual Machines and Curl\n\nMacOs $\\xrightarrow{192.168.50.4}$ VirtualBox $\\xrightarrow{5000}$ Docker instance at port 5000<p>\nVirtualBox $\\xrightarrow{127.0.0.1:5000}$ Docker instance at port 5000<p>\n\n```\ncurl http://local.lowline.io:5000/ # lowline\ncurl http://192.168.50.4:5000 # web via virtual box wrt Operating System\ncurl http://127.0.0.1:5000/ # web within virtual box\n```\n\nDocker instance of `rails` $\\xrightarrow{curl\\ web:5000}$ `web` Docker instance at 5000\n```\nvagrant ssh\ncd auto_img_reg\ndude bash ror\ncurl web:5000\n\n```"
  },
  {
   "cell_type": "code",
   "execution_count": null,
   "metadata": {},
   "outputs": [],
   "source": ""
  }
 ],
 "metadata": {
  "kernelspec": {
   "display_name": "Python 2",
   "language": "python",
   "name": "python2"
  },
  "language_info": {
   "codemirror_mode": {
    "name": "ipython",
    "version": 2
   },
   "file_extension": ".py",
   "mimetype": "text/x-python",
   "name": "python",
   "nbconvert_exporter": "python",
   "pygments_lexer": "ipython2",
   "version": "2.7.13"
  }
 },
 "nbformat": 4,
 "nbformat_minor": 4
}
