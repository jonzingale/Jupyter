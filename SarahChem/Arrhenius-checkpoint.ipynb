{
 "cells": [
  {
   "cell_type": "markdown",
   "metadata": {},
   "source": [
    "### The Arrhenius & Clausius-Clapeyron Equations\n",
    "In what follows, $\\log$ will stand for natural log and $exp$ will stand for exponentiating by $e$.\n",
    "<p>\n",
    "\n",
    "\n",
    "__Arrhenius:__<br>\n",
    "$\\dfrac{k_1}{k_2} = \\dfrac{exp\\ (\\dfrac {E_a}{RT_2})}{exp\\ (\\dfrac {E_a}{RT_1})}$<br>\n",
    "$\\dfrac{k_1}{k_2} = \\dfrac{exp\\ (\\dfrac {E_a}{R} \\dfrac{1}{T_2})}{exp\\ (\\dfrac {E_a}{R} \\dfrac{1}{T_1})}$<br>\n",
    "For simplicity let $k = \\dfrac{k_1}{k_2}$ and let $E^\\circ = \\dfrac {E_a}{R}$ in the following:<br>\n",
    "$k = \\dfrac{exp\\ (E^\\circ* \\dfrac{1}{T_2})}{exp\\ (E^\\circ* \\dfrac{1}{T_1})}$<br>\n",
    "$k * exp\\ (E^\\circ* \\dfrac{1}{T_1}) = exp\\ (E^\\circ* \\dfrac{1}{T_2})$<br>\n",
    "$\\log[k * exp\\ (E^\\circ* \\dfrac{1}{T_1})] = \\log[exp\\ (E^\\circ* \\dfrac{1}{T_2})]$<br>\n",
    "$\\log k + E^\\circ* \\dfrac{1}{T_1} = E^\\circ* \\dfrac{1}{T_2}$<br>\n",
    "$\\log k = E^\\circ* \\dfrac{1}{T_2} -  E^\\circ* \\dfrac{1}{T_1}$<br>\n",
    "$\\log k = E^\\circ\\ (\\dfrac{1}{T_2} - \\dfrac{1}{T_1})$<br>\n",
    "$k = exp\\ [E^\\circ\\ (\\dfrac{1}{T_2} - \\dfrac{1}{T_1})]$<br>\n",
    "$\\dfrac{k_1}{k_2} = exp\\ [\\dfrac {E_a}{R} (\\dfrac{1}{T_2} - \\dfrac{1}{T_1})]$<br>"
   ]
  },
  {
   "cell_type": "markdown",
   "metadata": {},
   "source": [
    "__Clausius-Clapeyron:__<br>\n",
    "\n",
    "$\\log \\dfrac {p_2}{p_1} = \\dfrac{-\\Delta H_{vap}} {R}\\ (\\dfrac{1}{T_2} - \\dfrac{1}{T_1})$<br>\n",
    "This formula is similar to the Arrhenius equation above. In fact, exponentiating gives:<br>\n",
    "$\\dfrac {p_2}{p_1} = exp\\ [\\dfrac{-\\Delta H_{vap}} {R}\\ (\\dfrac{1}{T_2} - \\dfrac{1}{T_1})]$<p>\n",
    "which may as well be the same damn thing.<p>\n",
    "Most important to notice, perhaps, are the subscripts: $k_1/\\ k_2$ becomes $p_2/\\ p_1$."
   ]
  }
 ],
 "metadata": {
  "kernelspec": {
   "display_name": "Python 3",
   "language": "python",
   "name": "python3"
  },
  "language_info": {
   "codemirror_mode": {
    "name": "ipython",
    "version": 3
   },
   "file_extension": ".py",
   "mimetype": "text/x-python",
   "name": "python",
   "nbconvert_exporter": "python",
   "pygments_lexer": "ipython3",
   "version": "3.6.1"
  }
 },
 "nbformat": 4,
 "nbformat_minor": 2
}
