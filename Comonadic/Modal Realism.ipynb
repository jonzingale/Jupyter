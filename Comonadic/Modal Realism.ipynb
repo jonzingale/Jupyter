{
 "cells": [
  {
   "cell_type": "markdown",
   "metadata": {},
   "source": [
    "## Modal Realism is Comonadic\n",
    "\n",
    "Does speaking of adjacent possibles require a specifiable space of possibilities?\n",
    "\n",
    "In  <a href=\"https://arxiv.org/pdf/1201.2069.pdf\">No entailing laws, but enablement in the evolution of the biosphere</a>, Kaufmann et al. argue that:\n",
    "```\n",
    "More generally, by the mathematical unprestatability \n",
    "of the \"phase space\" (space of possibilities),\n",
    "no laws of motion can be formulated for evolution.\n",
    "```\n",
    "\n",
    "It would appear that in some contexts, describing adjacent possibility as being\n",
    "dependent upon a  prescribed `phase space ` misses something. Perhaps it is more\n",
    "desirable to imagine that agents and worlds co-create, and that possibilities emerge\n",
    "locally in the process.\n",
    "\n",
    "To these ends, it seems reasonable to me that we can characterize adjacent possibles as\n",
    "a kind of  modal realism a'la David Lewis. Sure, there are a number of philosophical\n",
    "objections to be made and Wikipedia will outline a good number of them for interested parties.\n",
    "Still, my remark was not meant to be meaningless. I do think that such modeling is a potentially\n",
    "useful technology.\n",
    "\n",
    "As Dan Piponi outlines, in an inspired moment of blogging, <a href=\"http://blog.sigfpe.com/2006/12/evaluating-cellular-automata-is.html\">\n",
    "Evaluating Cellular Automata is Comonadic\n",
    "</a>.\n",
    "Unlike classical conceptions of cellular automata, it appears likely that generalizing to the level of\n",
    "comonad may allow us to escape `pre-stating the phase space` and by it's very nature the associated\n",
    "co-bind operator develops locally. Sure my previous comment was pithy, but not meant to troll."
   ]
  },
  {
   "cell_type": "markdown",
   "metadata": {
    "collapsed": true
   },
   "source": [
    "### Main tenets\n",
    "At the heart of David Lewis's modal realism are six central doctrines about possible worlds:\n",
    "\n",
    "* Possible worlds exist – they are just as real as our world;\n",
    "* Possible worlds are the same sort of things as our world – they differ in content, not in kind;\n",
    "* Possible worlds cannot be reduced to something more basic – they are irreducible entities in their own right.\n",
    "* Actuality is indexical. When we distinguish our world from other possible worlds by claiming that it alone is actual, we mean only that it is our world.\n",
    "* Possible worlds are unified by the spatiotemporal interrelations of their parts; every world is spatiotemporally isolated from every other world.\n",
    "* Possible worlds are causally isolated from each other."
   ]
  },
  {
   "cell_type": "code",
   "execution_count": null,
   "metadata": {
    "collapsed": true
   },
   "outputs": [],
   "source": []
  }
 ],
 "metadata": {
  "kernelspec": {
   "display_name": "Haskell",
   "language": "haskell",
   "name": "haskell"
  },
  "language_info": {
   "codemirror_mode": "ihaskell",
   "file_extension": ".hs",
   "name": "haskell",
   "version": "8.0.2"
  }
 },
 "nbformat": 4,
 "nbformat_minor": 2
}
