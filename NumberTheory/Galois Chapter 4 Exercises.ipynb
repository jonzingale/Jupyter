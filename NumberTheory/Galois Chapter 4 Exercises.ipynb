{
 "cells": [
  {
   "cell_type": "markdown",
   "metadata": {},
   "source": [
    "## Exercises for Chapter 4:\n",
    "\n",
    "1) Show that the nonreal zeros of a polynomial with real coefficients come in pairs of complex conjugate numbers.<p>\n",
    "\n",
    "__solution:__"
   ]
  },
  {
   "cell_type": "markdown",
   "metadata": {},
   "source": [
    "2) Construct a (n-1)th-degree polynomial that takes on the given values $y_1...y_n$ at the distinct points $x_1...x_n$.<br>\n",
    "$\\ \\ \\ $Hint: Consider for $j=1...n$ polynomials of the form $g_j(x)=\\prod_{i=1...n\\ and\\ i \\neq j} \\dfrac{x-x_i}{x_j-x_i}$ at the points $x=x_1...x_n$.<br>\n",
    "The polynomial that solves this problem is called the *Lagrange interpolation formula*.<p>\n",
    "\n",
    "__solution:__<p>\n",
    "the polynomial in the hint is comprised of bases for  .. . "
   ]
  },
  {
   "cell_type": "code",
   "execution_count": null,
   "metadata": {
    "collapsed": true
   },
   "outputs": [],
   "source": []
  }
 ],
 "metadata": {
  "kernelspec": {
   "display_name": "Python 3",
   "language": "python",
   "name": "python3"
  },
  "language_info": {
   "codemirror_mode": {
    "name": "ipython",
    "version": 3
   },
   "file_extension": ".py",
   "mimetype": "text/x-python",
   "name": "python",
   "nbconvert_exporter": "python",
   "pygments_lexer": "ipython3",
   "version": "3.6.1"
  }
 },
 "nbformat": 4,
 "nbformat_minor": 2
}
