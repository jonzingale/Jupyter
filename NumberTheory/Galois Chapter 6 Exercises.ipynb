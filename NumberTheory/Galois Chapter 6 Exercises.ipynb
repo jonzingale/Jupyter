{
 "cells": [
  {
   "cell_type": "markdown",
   "metadata": {},
   "source": [
    "## Galois Chapter 6 Exercises\n",
    "\n",
    "__Exercise 2:__\n",
    "\n",
    "Prove that $1x^6 + 4x^5 - 2x^4 + 1x^3 - 3x^2 + 5x^1+ 1x^0$ is irreducible over $\\mathbb {Q}$."
   ]
  },
  {
   "cell_type": "markdown",
   "metadata": {},
   "source": [
    "__the quadratic with quartic case.__\n",
    "\n",
    "Assume that the polynomial above can be factored:<br>\n",
    "$(x^2 + ax \\pm 1)(x^4 + bx^3 + cx^2 + dx \\pm 1)$<br>\n",
    "where the $\\pm$ 1 are both negative or both positive,<br>\n",
    "and the coefficients $a...d$ are integers.<br>"
   ]
  },
  {
   "cell_type": "markdown",
   "metadata": {},
   "source": [
    "The coefficients of the polynomial relate to the coeffecients<br>\n",
    "of the factors by the following relations:<br>\n",
    "\n",
    "$a + b = 4$<br>\n",
    "$c + ab \\pm 1 = -2$<br>\n",
    "$d + ac \\pm b = 1 $<br>\n",
    "$\\pm c + ad \\pm 1 = -3$<br>\n",
    "$\\pm a \\pm d = 5$<br>\n"
   ]
  },
  {
   "cell_type": "markdown",
   "metadata": {},
   "source": [
    "Looking at the relations above modulo 2, we can see<br>\n",
    "to what extent these relations are consistent with respect<br>\n",
    "to parity. To the extent that they are not consistent, there<br>\n",
    "can be no integers $a...d$ belonging to $\\mathbb{Z}$.<br>\n",
    "\n",
    "Noting that a minus sign does not change parity.<p>\n",
    "__5:__ $a + b \\equiv_2 0$<br>\n",
    "__4:__ $ab + c + 1 \\equiv_2 0$<br>\n",
    "__3:__ $ac + d + b \\equiv_2 1 $<br>\n",
    "__2:__ $ad + c + 1 \\equiv_2 1$<br>\n",
    "__1:__ $a + d \\equiv_2 1$<p>\n",
    "where the last relation is reduced as:<br>\n",
    "$\\pm a \\pm d \\equiv_2 \\pm (a+d) \\equiv_2 1$<p>\n",
    "    \n",
    "By 5, $a$ and $b$ have the same parity.<br>\n",
    "By 1, $a$ and $d$ have the opposite parity.<br>\n",
    "\n",
    "By 4 & 2:<br>\n",
    "$(ab+c+1)+(ad+c+1)\\equiv_2 1$<br>\n",
    "$ab+ad+2c+2\\equiv_2 1$<br>\n",
    "$ab+ad\\equiv_2 1$<p>\n",
    "Since $a$ and $d$ have opposite parity, $ad \\equiv_2 0$.<br>\n",
    "Now by substitution,<br>\n",
    "\n",
    "$ab+ad \\equiv_2 1$<br>\n",
    "$ab \\equiv_2 1$<br>\n",
    "Thus both $a$ and $b$ are odd and $d$ is even.<p>\n",
    "Further by 4,<br>\n",
    "$ab+c+1 \\equiv_2 0$<br>\n",
    "$1+c+1 \\equiv_2 0$<br>\n",
    "$c \\equiv_2 0$<br>\n",
    "and so $c$ is even.\n",
    "    \n",
    "Ah, but rats! The equations are consistent and so there<br>\n",
    "is a solution modulo 2 with $a=1, b=1, c=0, d=0$.<br>\n"
   ]
  },
  {
   "cell_type": "markdown",
   "metadata": {},
   "source": [
    "__A second attempt.__\n",
    "\n",
    "The coefficients of the polynomial relate to the coeffecients<br>\n",
    "of the factors by the following relations:<br>\n",
    "\n",
    "$a + b = 4$<br>\n",
    "$c + ab \\pm 1 = -2$<br>\n",
    "$d + ac \\pm b = 1 $<br>\n",
    "$\\pm c + ad \\pm 1 = -3$<br>\n",
    "$\\pm a \\pm d = 5$<br>\n"
   ]
  },
  {
   "cell_type": "markdown",
   "metadata": {},
   "source": [
    "Now since all plus-or-minus signs are consistent,<br>\n",
    "these relations are in one of two forms.</p>\n",
    "\n",
    "__The positive case:__\n",
    "\n",
    "A: $a + b = 4$<br>\n",
    "B: $c + ab = -3$<br>\n",
    "C: $d + ac + b = 1 $<br>\n",
    "D: $c + ad = -4$<br>\n",
    "E: $a + d = 5$</p>\n",
    "\n",
    "By E-A,<br>\n",
    "$(a+d)-(a+b)=5-4$<br>\n",
    "$a+d-a-b=1$<br>\n",
    "$d-b=1$</p>\n",
    "\n",
    "By D-B,<br>\n",
    "$(c+ad+1)-(c+ab+1)=-4+3$<br>\n",
    "$c+ad+1-c-ab-1=-1$<br>\n",
    "$ad-ab=-1$<br>\n",
    "$a(d-b)=-1$</p>\n",
    "\n",
    "Substituting (E-A) into (D-B)<br>\n",
    "$a(d-b)=-1$<br>\n",
    "$a(1)=-1$<br>\n",
    "$a=-1$</p>\n",
    "\n",
    "Now, solving for $b...d$,<br>\n",
    "$b=5, c=2, d=6$<br>\n",
    "\n",
    "Substituting into the factorization and then multiplying,<br>\n",
    "$(x^2 + ax + 1)(x^4 + bx^3 + cx^2 + dx + 1)$<br>\n",
    "$(x^2 - 1x + 1)(x^4 + 5x^3 + 2x^2 + 6x + 1)$<br>\n",
    "$x^6 + 4x^5 - 2x^4 + 9x^3 - 3x^2 + 5x^1+ 1$<br>\n",
    "which was really close, but incorrect.<br>"
   ]
  },
  {
   "cell_type": "markdown",
   "metadata": {},
   "source": [
    "__The Negative case:__\n",
    "\n",
    "A: $a + b = 4$<br>\n",
    "B: $c + ab = -1$<br>\n",
    "C: $d + ac - b = 1 $<br>\n",
    "D: $c - ad = 2$<br>\n",
    "E: $a + d = -5$</p>\n",
    "\n",
    "By E+A,<br>\n",
    "$(a+b)-(a+d)=9$<br>\n",
    "$a+b-a-d=9$<br>\n",
    "$b-d=9$</p>\n",
    "\n",
    "By D-B,<br>\n",
    "$c-ad-c+ab=3$<br>\n",
    "$ab-ad=3$<br>\n",
    "$a(b-d)=3$<br>\n",
    "$a=\\dfrac{3}{b-d}$</p>\n",
    "\n",
    "Substituting (E+A) into (D-B):<br>\n",
    "$a=1/3$, a contradiction since $a$ is an integer."
   ]
  },
  {
   "cell_type": "code",
   "execution_count": null,
   "metadata": {},
   "outputs": [],
   "source": []
  }
 ],
 "metadata": {
  "kernelspec": {
   "display_name": "Python 3",
   "language": "python",
   "name": "python3"
  },
  "language_info": {
   "codemirror_mode": {
    "name": "ipython",
    "version": 3
   },
   "file_extension": ".py",
   "mimetype": "text/x-python",
   "name": "python",
   "nbconvert_exporter": "python",
   "pygments_lexer": "ipython3",
   "version": "3.7.1"
  }
 },
 "nbformat": 4,
 "nbformat_minor": 2
}
