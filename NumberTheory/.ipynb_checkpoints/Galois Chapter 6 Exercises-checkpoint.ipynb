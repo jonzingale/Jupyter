{
 "cells": [
  {
   "cell_type": "markdown",
   "metadata": {},
   "source": [
    "## Galois Chapter 6 Exercises\n",
    "\n",
    "__Exercise 2:__\n",
    "\n",
    "Prove that $1x^6 + 4x^5 - 2x^4 + 1x^3 - 3x^2 + 5x^1+ 1x^0$ is irreducible over $\\mathbb {Q}$."
   ]
  },
  {
   "cell_type": "markdown",
   "metadata": {},
   "source": [
    "__the quadratic with quartic case.__\n",
    "\n",
    "Assume that the polynomial above can be factored:<br>\n",
    "$(x^2 + ax \\pm 1)(x^4 + bx^3 + cx^2 + dx \\pm 1)$<br>\n",
    "where the $\\pm$ 1 are both negative or both positive,<br>\n",
    "and the coefficients $a...d$ are integers.<p>\n",
    "\n",
    "The coefficients of the polynomial relate to the coeffecients<br>\n",
    "of the factors by the following relations:<br>\n",
    "\n",
    "$a + b = 4$<br>\n",
    "$c + ab \\pm 1 = -2$<br>\n",
    "$d + ac \\pm b = 1 $<br>\n",
    "$\\pm c + ad \\pm 1 = -3$<br>\n",
    "$\\pm a \\pm d = 5$<br>\n"
   ]
  },
  {
   "cell_type": "markdown",
   "metadata": {},
   "source": [
    "The $\\pm t$ coefficients are either all positive, or all negative.<br>\n",
    "Thus, these relations are in one of two forms.<p>\n",
    "\n",
    "\n",
    "__The positive case:__\n",
    "\n",
    "A: $a + b = 4$<br>\n",
    "B: $c + ab = -3$<br>\n",
    "C: $d + ac + b = 1 $<br>\n",
    "D: $c + ad = -4$<br>\n",
    "E: $a + d = 5$</p>\n",
    "\n",
    "By E-A,<br>\n",
    "$(a+d)-(a+b)=5-4$<br>\n",
    "$a+d-a-b=1$<br>\n",
    "$d-b=1$</p>\n",
    "\n",
    "By D-B,<br>\n",
    "$(c+ad+1)-(c+ab+1)=-4+3$<br>\n",
    "$c+ad+1-c-ab-1=-1$<br>\n",
    "$ad-ab=-1$<br>\n",
    "$a(d-b)=-1$</p>\n",
    "\n",
    "Substituting (E-A) into (D-B)<br>\n",
    "$a(d-b)=-1$<br>\n",
    "$a(1)=-1$<br>\n",
    "$a=-1$</p>\n",
    "\n",
    "Now, solving for $b...d$,<br>\n",
    "$b=5, c=2, d=6$<br>\n",
    "\n",
    "Substituting into the factorization and then multiplying,<br>\n",
    "$(x^2 + ax + 1)(x^4 + bx^3 + cx^2 + dx + 1)$<br>\n",
    "$(x^2 - 1x + 1)(x^4 + 5x^3 + 2x^2 + 6x + 1)$<br>\n",
    "$x^6 + 4x^5 - 2x^4 + 9x^3 - 3x^2 + 5x^1+ 1$<p>\n",
    "which differs from the given polynomial in the cubic term.\n"
   ]
  },
  {
   "cell_type": "markdown",
   "metadata": {},
   "source": [
    "__The Negative case:__\n",
    "\n",
    "A: $a + b = 4$<br>\n",
    "B: $c + ab = -1$<br>\n",
    "C: $d + ac - b = 1 $<br>\n",
    "D: $c - ad = 2$<br>\n",
    "E: $a + d = -5$</p>\n",
    "\n",
    "By E+A,<br>\n",
    "$(a+b)-(a+d)=9$<br>\n",
    "$a+b-a-d=9$<br>\n",
    "$b-d=9$</p>\n",
    "\n",
    "By D-B,<br>\n",
    "$c-ad-c+ab=3$<br>\n",
    "$ab-ad=3$<br>\n",
    "$a(b-d)=3$<br>\n",
    "$a=\\dfrac{3}{b-d}$</p>\n",
    "\n",
    "Substituting (E+A) into (D-B):<br>\n",
    "$a=1/3$, a contradiction since $a$ is an integer."
   ]
  }
 ],
 "metadata": {
  "kernelspec": {
   "display_name": "Python 3",
   "language": "python",
   "name": "python3"
  },
  "language_info": {
   "codemirror_mode": {
    "name": "ipython",
    "version": 3
   },
   "file_extension": ".py",
   "mimetype": "text/x-python",
   "name": "python",
   "nbconvert_exporter": "python",
   "pygments_lexer": "ipython3",
   "version": "3.7.1"
  }
 },
 "nbformat": 4,
 "nbformat_minor": 2
}
