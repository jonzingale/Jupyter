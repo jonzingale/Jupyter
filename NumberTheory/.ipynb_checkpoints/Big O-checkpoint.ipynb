{
 "cells": [
  {
   "cell_type": "markdown",
   "metadata": {},
   "source": [
    "Joseph,<p>\n",
    "\n",
    "Thank you for the cool problem.\n",
    "\n",
    "Show that the solution of<br>\n",
    "$T(n)=T(\\lceil{n/2}\\rceil)+1$ is $O(\\log n)$.<p>\n",
    "\n",
    "First, let's show that the recurrence has a tighter bound,<br>\n",
    "$T(n) \\leq c*\\log(n - b)$ for constants $b$ and $c$.<br>\n",
    "\n",
    "$T(n)=T(\\lceil{n/2}\\rceil)+1$<br>\n",
    "$\\ \\ \\ \\ \\ \\ \\ \\leq c*\\log(\\lceil{n/2}\\rceil-b)+1$<br>\n",
    "$\\ \\ \\ \\ \\ \\ \\ \\leq c*\\log (\\dfrac{n}{2}-b+1)+1$<br>\n",
    "$\\ \\ \\ \\ \\ \\ \\ = c*\\log (\\dfrac{n-2b+2}{2})+1$<br>\n",
    "$\\ \\ \\ \\ \\ \\ \\ = c*\\log (n-2b+2)-\\log 2+1$<br>\n",
    "$\\ \\ \\ \\ \\ \\ \\ = c*\\log (n-2b+2)$<p>\n",
    "\n",
    "Now because,\n",
    "$n-2b+2 \\leq n-b$ when ...<p>\n",
    "$-2b+2 \\leq -b$<br>\n",
    "$2 \\leq 2b-b$<br>\n",
    "$2 \\leq b(2-1)$<br>\n",
    "$2 \\leq b$<p>\n",
    "\n",
    "we can state $T(n) \\leq c*\\log (n-b)$ with confidence.<br>\n",
    "Further,  $T(n) \\leq c*\\log (n-b) \\leq c*\\log n$.\n"
   ]
  }
 ],
 "metadata": {
  "kernelspec": {
   "display_name": "Python 3",
   "language": "python",
   "name": "python3"
  },
  "language_info": {
   "codemirror_mode": {
    "name": "ipython",
    "version": 3
   },
   "file_extension": ".py",
   "mimetype": "text/x-python",
   "name": "python",
   "nbconvert_exporter": "python",
   "pygments_lexer": "ipython3",
   "version": "3.6.1"
  }
 },
 "nbformat": 4,
 "nbformat_minor": 2
}
