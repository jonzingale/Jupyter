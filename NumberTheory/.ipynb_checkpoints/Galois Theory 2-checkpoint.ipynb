{
 "cells": [
  {
   "cell_type": "markdown",
   "metadata": {},
   "source": [
    "Grant,\n",
    "\n",
    "Thank you for sending the statement of the conjecture in an email.<br>\n",
    "\n",
    "__Conjecture:__<br>\n",
    "Given a complex number $z=a+bi$ with modulus 1, can it be decided<br>\n",
    "whether or not the $z$ is an integral root of unity?<p>\n",
    "\n",
    "From the pair $(a,b)$ alone, can it be decided whether or not<br>\n",
    "$z$s argument can be written as $2\\pi*p/q$ for a rational pair $(p,q)$?"
   ]
  },
  {
   "cell_type": "markdown",
   "metadata": {},
   "source": [
    "Strategies:\n",
    "\n",
    "- __ST1__: Deal with $tan(arg \\theta) = \\dfrac {Im \\theta}{Re \\theta}$ as Taylor series.\n",
    "- __ST2__: element of Prufer group.\n",
    "\n",
    "$tan^{-1} x = x - \\dfrac {x^3}{3} + \\dfrac {x^5}{5} - \\dfrac {x^7}{7} + \\dfrac {x^9}{9} - \\ldots$<br>\n",
    "which is equal to: $\\sum^{\\infty}_{n=1}(-1)^{(n-1)}\\dfrac{x^{2n-1}}{2n-1}$<p>\n",
    "\n",
    "One can write pi as $\\pi/4 = 1 - 1/3 + 1/5 - 1/7 + ...$, ie. as the series<br>\n",
    "$\\dfrac {\\pi}{4} = \\sum^{\\infty}_{n=1} (-1)^{(2n-1)} \\dfrac{1}{2n+1}$\n"
   ]
  },
  {
   "cell_type": "code",
   "execution_count": null,
   "metadata": {
    "collapsed": true
   },
   "outputs": [],
   "source": []
  }
 ],
 "metadata": {
  "kernelspec": {
   "display_name": "Python 3",
   "language": "python",
   "name": "python3"
  },
  "language_info": {
   "codemirror_mode": {
    "name": "ipython",
    "version": 3
   },
   "file_extension": ".py",
   "mimetype": "text/x-python",
   "name": "python",
   "nbconvert_exporter": "python",
   "pygments_lexer": "ipython3",
   "version": "3.6.1"
  }
 },
 "nbformat": 4,
 "nbformat_minor": 2
}
