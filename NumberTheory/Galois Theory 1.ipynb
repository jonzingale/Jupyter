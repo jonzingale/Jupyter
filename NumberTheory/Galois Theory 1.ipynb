{
 "cells": [
  {
   "cell_type": "markdown",
   "metadata": {},
   "source": [
    "Grant,\n",
    "\n",
    "On Friday, you had made a conjecture regarding roots of unity. By the time<br>\n",
    "I got home, I wasn't entirely sure of the conjecture's form. Included below<br>\n",
    "are two possible rememberings along with a proof of one of the statements.<p>\n",
    "\n",
    "__Statement of conjecture 1:__<br>\n",
    "There exists a complex number $z$ with $\\mid z \\mid = 1$,<br>\n",
    "such that for all integers $k>1$, $z \\neq z^k$.<p>\n",
    "\n",
    "__Statement of conjecture 2:__<br>\n",
    "All such pairs $(a,b) \\in \\mathbb{R}$ satisfying *Conjecture 1* are trancendental.<br>\n",
    "\n",
    "\n",
    "I may have some resources that would help with approaching a proof<br>\n",
    "of *Conjecture 2*, but at present I am at a loss for how to even begin.<br>\n",
    "*Conjecture 1*, one the other hand, is fairly approachable when one<br>\n",
    "considers the following lemma:<p>\n",
    "\n",
    "__Lemma:__<br>\n",
    "For any complex number $z$ whose argument is a rational part of $2\\pi$<br>\n",
    "and whose modulus is $1$, $z=z^\\hat{k}$ for some integer $\\hat{k}$.<br>\n",
    "\n",
    "__proof:__<br>\n",
    "The argument of $z$ is a rational part of $2\\pi$ and so there exists a pair<br>\n",
    "$(p, q) \\in \\mathbb{Z}$ such that $arg(z)$ can be written $arg(z) = 2\\pi*p/q$.<br>\n",
    "By the identity $(r \\angle \\theta)(s \\angle \\phi) = rs\\angle(\\theta+\\phi)$, the $k-th$ power of $z$<br>\n",
    "will have the form $r^k \\angle (\\theta + \\ldots +\\theta)$, where $\\theta$ appears k times, ie.<br>\n",
    "$r^k \\angle k*\\theta$. The modulus of $z$ is $1$, so we can ignore the left side<br>\n",
    "of $\\angle$ and simply write $\\angle k*\\theta$ for the argument after $k$ iterations.<br>\n",
    "Because $\\theta = 2\\pi*p/q$, the argument of $z^k$ is then $2\\pi*p/q*k$.<br>\n",
    "Letting $k = q$, the argument of $z^k$ can be seen to be a multiple of $2\\pi$,<br>\n",
    "and so is equivalent to $2\\pi$. Letting $\\hat k = k+1$ we see that:<p>\n",
    "\n",
    "$arg(z^\\hat{k})$<br>\n",
    "$arg(z^{k+1})$<br>\n",
    "$\\angle(2\\pi*p/q*k+2/pi*p/q)$<br>\n",
    "$\\angle(2\\pi*p+2/pi*p/q)$<br>\n",
    "$\\angle(0+2/pi*p/q)$<br>\n",
    "$\\angle(2\\pi*p/q)$<br>\n",
    "$arg(z)$<p>\n",
    "\n",
    "As was to be shown. $\\triangle$<p>\n",
    "\n",
    "The previous lemma outlines the approach used to find a $z \\in \\mathbb{C}$<br>\n",
    "such that there is no integer $k>1$ giving $z = z^k$.<p>\n",
    "\n",
    "__Conjecture 1:__<br>\n",
    "There exists a complex number $z$ with $\\mid z \\mid = 1$,<br>\n",
    "such that for all integers $k>1$, $z \\neq z^k$.<p>\n",
    "\n",
    "__proof:__<br>\n",
    "The proof of the lemma relies on finding an integer $k$ which is a multiplicative<br>\n",
    "inverse for the integer $q$. Here instead, we can choose any real pair $(p,q)$. Letting<br>\n",
    "$(p,q) = (1, \\sqrt 2)$, it is readily seen that there is no integer which is an inverse for<br>\n",
    "$\\sqrt 2$. This implies that there can be no integer $k>1$ making $arg(z^k) =2\\pi$.<p>\n",
    "\n"
   ]
  },
  {
   "cell_type": "markdown",
   "metadata": {
    "collapsed": true
   },
   "source": [
    "__Conjecture 3:__ (the actual statement)<br>\n",
    "Given a complex number $z=a+bi$ with modulus 1, can it be decided<br>\n",
    "whether or not the $z$ is an integral root of unity?<p>\n",
    "\n",
    "From the pair $(a,b)$ alone, can it be decided whether or not<br>\n",
    "$z$s argument can be written as $2\\pi*p/q$ for a rational pair $(p,q)$?"
   ]
  }
 ],
 "metadata": {
  "kernelspec": {
   "display_name": "Python 3",
   "language": "python",
   "name": "python3"
  },
  "language_info": {
   "codemirror_mode": {
    "name": "ipython",
    "version": 3
   },
   "file_extension": ".py",
   "mimetype": "text/x-python",
   "name": "python",
   "nbconvert_exporter": "python",
   "pygments_lexer": "ipython3",
   "version": "3.6.1"
  }
 },
 "nbformat": 4,
 "nbformat_minor": 2
}
