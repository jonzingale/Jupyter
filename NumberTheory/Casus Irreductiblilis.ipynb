{
 "cells": [
  {
   "cell_type": "markdown",
   "metadata": {},
   "source": [
    "__Casus Irreductiblilis__\n",
    "\n",
    "(non-example)\n",
    "\n",
    "Cardano's formula gives the roots for any generalized cubic equation\n",
    "$ax^3 + bx^2 + cx + d$<br>\n",
    "by first transforming the form to a special\n",
    "monic polynomial normal form $x^3 + px + q$<br>\n",
    "and then solving for a root via:\n",
    "\n",
    "$x = \\sqrt[3]{-\\dfrac{q}{2}+\\sqrt{\\big(\\dfrac{q}{2}\\big)^2+\\big(\\dfrac{p}{3}\\big)^3}} + \\sqrt[3]{-\\dfrac{q}{2}-\\sqrt{\\big(\\dfrac{q}{2}\\big)^2+\\big(\\dfrac{p}{3}\\big)^3}}$<p>"
   ]
  },
  {
   "cell_type": "markdown",
   "metadata": {},
   "source": [
    "As can be seen by visual inspection, whether or not the value under the nested radical<br>\n",
    "is less than zero will determine whether or not Cardano's formula expresses a solution<br>\n",
    "with complex values. In particular, when $p$ is negative and<p>\n",
    "\n",
    "$q < \\sqrt{-\\dfrac{4}{27}p^3}$<p>\n",
    "\n",
    "we expect to find complex values in Cardano's expression.<br>\n",
    "For example, letting $p = -1$ we look for a value $q$ satisfying:<p>\n",
    "$q < \\sqrt{\\dfrac{4}{27}}$, <p>\n",
    "Let's say:<p>\n",
    "    \n",
    "$q = \\sqrt{-\\dfrac{4}{27}(p+1)^3} = 0$<p>\n",
    "\n",
    "Giving the expression, $x^3 - x = 0$, which has real roots: -1, 0 and 1.<br>\n",
    "While Cardano's formula gives:<p>\n",
    "\n",
    "\n",
    "$x = \\sqrt[3]{\\sqrt{-\\dfrac{1}{27}}} + \\sqrt[3]{-\\sqrt{-\\dfrac{1}{27}}}$<p>\n",
    "\n",
    "which granted an arithmetic of complex numbers evaluates to 1."
   ]
  }
 ],
 "metadata": {
  "kernelspec": {
   "display_name": "Python 3",
   "language": "python",
   "name": "python3"
  },
  "language_info": {
   "codemirror_mode": {
    "name": "ipython",
    "version": 3
   },
   "file_extension": ".py",
   "mimetype": "text/x-python",
   "name": "python",
   "nbconvert_exporter": "python",
   "pygments_lexer": "ipython3",
   "version": "3.7.3"
  }
 },
 "nbformat": 4,
 "nbformat_minor": 2
}
