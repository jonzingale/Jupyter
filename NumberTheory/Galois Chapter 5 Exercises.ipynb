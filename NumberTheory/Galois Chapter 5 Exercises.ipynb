{
 "cells": [
  {
   "cell_type": "markdown",
   "metadata": {},
   "source": [
    "## Exercises for Chapter 5:\n",
    "\n",
    "1) For a given cubic equation $x^3+ax^2+c=0$, determine the cubic equation<br>\n",
    "   whose solutions are the squares of the solutions of the given equation.<p>\n",
    "\n",
    "__solution:__<p>\n",
    "\n",
    "Letting $r = \\sqrt[3]{-\\dfrac{q}{2}+\\sqrt{\\big(\\dfrac{q}{2}\\big)^2+\\big(\\dfrac{p}{3}\\big)^3}}$ and\n",
    "Let $s = \\sqrt[3]{-\\dfrac{q}{2}-\\sqrt{\\big(\\dfrac{q}{2}\\big)^2+\\big(\\dfrac{p}{3}\\big)^3}}$,<p>\n",
    "solutions to the general cubic, $x^3+ax^2+c=0$, have the forms:<p>\n",
    "$x_1 = \\zeta^0r+ \\zeta^0s$<br>\n",
    "$x_2 = \\zeta^1r+ \\zeta^2s$<br>\n",
    "$x_3 = \\zeta^2r+ \\zeta^1s$<br>\n",
    "where $\\zeta$ is a root of unity.<p>\n",
    "\n",
    "The squares for each of these solutions:<br>\n",
    "$x_1^2 = (\\zeta^0r+ \\zeta^0s)^2= \\zeta^0r^2 + \\zeta^02rs+\\zeta^0s^2= r^2+2rs+s^2$<p>\n",
    "$x_2^2 = (\\zeta^1r+ \\zeta^2s)^2= \\zeta^2r^2 + \\zeta^32rs+\\zeta^4s^2 = \\zeta^2r^2 + 2rs+\\zeta^1s^2$<p>\n",
    "$x_3^2 = (\\zeta^2r+ \\zeta^1s)^2= \\zeta^4r^2 + \\zeta^32rs+\\zeta^2s^2 = \\zeta^1r^2 + 2rs+\\zeta^2s^2$,<p>\n",
    "\n",
    "gives a viéte polynomial with the form:<br>\n",
    "$(x-r^2-2rs-s^2)(x-\\zeta^2r^2 - 2rs-\\zeta^1s^2)(x-\\zeta^1r^2 - 2rs-\\zeta^2s^2)$<br>\n",
    "which expands to give:<br>\n"
   ]
  },
  {
   "cell_type": "code",
   "execution_count": null,
   "metadata": {
    "collapsed": true
   },
   "outputs": [],
   "source": []
  }
 ],
 "metadata": {
  "kernelspec": {
   "display_name": "Python 3",
   "language": "python",
   "name": "python3"
  },
  "language_info": {
   "codemirror_mode": {
    "name": "ipython",
    "version": 3
   },
   "file_extension": ".py",
   "mimetype": "text/x-python",
   "name": "python",
   "nbconvert_exporter": "python",
   "pygments_lexer": "ipython3",
   "version": "3.6.1"
  }
 },
 "nbformat": 4,
 "nbformat_minor": 2
}
