{
 "cells": [
  {
   "cell_type": "markdown",
   "metadata": {},
   "source": [
    "### Cardano's Substitution Technique\n",
    "\n",
    "Consider a polynomial $x^3+ax^2+bx+c=0$, letting $w=\\dfrac{a}{3}$ and evaluating at $x-2$.<p>\n",
    "\n",
    "$x^3-3wx^2+3w^2x-w^3+ax^2-2awx+aw^2+bx-\\dfrac{ba}{3}+c=0$<br>\n",
    "$x^3+[ax^2-3wx^2]+[3w^2x+bx-2awx]+[aw^2-w^3-\\dfrac{ba}{3}]+c=0$<br>\n",
    "$x^3+[3w^2-2aw+b]x+[aw^2-w^3-\\dfrac{ba}{3}]+c=0$<br>\n",
    "$x^3+[\\dfrac{a^2}{3}-\\dfrac{2a^2}{3}+b]x+[\\dfrac{a^3}{9}-\\dfrac{a^3}{27}-\\dfrac{ba}{3}]+c=0$<br>\n",
    "$x^3+[-\\dfrac{1}{3}a^2+b]x+[\\dfrac{2}{27}a^3-\\dfrac{ba}{3}]+c=0$<br>\n",
    "$x^3+[-\\dfrac{1}{3}a^2+b]x+[\\dfrac{2}{27}a^3-\\dfrac{ba}{3}+c]=0$<p>\n",
    "\n",
    "So now the cubic is in the form $x^3+px+q=0$ with<br>\n",
    "$p=b-\\dfrac{1}{3}a^2$ and $q=\\dfrac{2}{27}a^3-\\dfrac{1}{3}ba+c$.<p>\n",
    "\n",
    "Now using Cardano's Formula:<br>\n",
    "$x = \\sqrt[3]{-\\dfrac{q}{2}+\\sqrt{\\big(\\dfrac{q}{2}\\big)^2+\\big(\\dfrac{p}{3}\\big)^3}} + \\sqrt[3]{-\\dfrac{q}{2}-\\sqrt{\\big(\\dfrac{q}{2}\\big)^2+\\big(\\dfrac{p}{3}\\big)^3}}$<p>\n",
    "A root can be found. More concretely, for the polynomial $x^3-3x^2-3x-1=0$,<br>\n",
    "Cardano's substitution gives $y=\\sqrt[3]{2}+\\sqrt[3]{4}$. To give a root of the original cubic we<br>\n",
    "transform back via $x=y-\\dfrac{a}{3}=y-\\dfrac{3}{3}=y+1$, giving $x=\\sqrt[3]{2}+\\sqrt[3]{4}+1$ as a<br>\n",
    "root of $x^3-3x^2-3x-1=0$. "
   ]
  }
 ],
 "metadata": {
  "kernelspec": {
   "display_name": "Python 3",
   "language": "python",
   "name": "python3"
  },
  "language_info": {
   "codemirror_mode": {
    "name": "ipython",
    "version": 3
   },
   "file_extension": ".py",
   "mimetype": "text/x-python",
   "name": "python",
   "nbconvert_exporter": "python",
   "pygments_lexer": "ipython3",
   "version": "3.6.1"
  }
 },
 "nbformat": 4,
 "nbformat_minor": 2
}
