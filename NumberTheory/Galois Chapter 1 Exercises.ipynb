{
 "cells": [
  {
   "cell_type": "markdown",
   "metadata": {},
   "source": [
    "### Exercises for Chapter 1:\n",
    "\n",
    "1) Find a solution to the cubic equation $x^3+6x^2+9x-2=0$<p>\n",
    "\n",
    "__solution:__<br>\n",
    "Cubics of the form $x^3+ax^2+bx+c=0$ can be transformed into equations<br>\n",
    "of the form $x^3+px+q=0$ where $p=-\\dfrac{1}{3}a^2+b$ and $q=\\dfrac{2}{27}a^3-\\dfrac{1}{3}ab+c$.\n",
    "\n",
    "substituting the a, b and c in the equations for p and q one gets:<br>\n",
    "$p=-\\dfrac{1}{3}a^2+b=-\\dfrac{1}{3}6^2+9=-3$ and<br>\n",
    "$q=\\dfrac{2}{27}a^3-\\dfrac{1}{3}ab+c=\\dfrac{2}{27}6^3-\\dfrac{1}{3}6*9-2=-4$<p>\n",
    "\n",
    "Now using Cardano's formula to get a root for the reduced equation:<p>\n",
    "$x = \\sqrt[3]{-\\dfrac{q}{2}+\\sqrt{\\big(\\dfrac{q}{2}\\big)^2+\\big(\\dfrac{p}{3}\\big)^3}} + \\sqrt[3]{-\\dfrac{q}{2}-\\sqrt{\\big(\\dfrac{q}{2}\\big)^2+\\big(\\dfrac{p}{3}\\big)^3}}$<br>\n",
    "$x = \\sqrt[3]{-\\dfrac{-4}{2}+\\sqrt{\\big(\\dfrac{-4}{2}\\big)^2+\\big(\\dfrac{-3}{3}\\big)^3}} + \\sqrt[3]{-\\dfrac{-4}{2}-\\sqrt{\\big(\\dfrac{-4}{2}\\big)^2+\\big(\\dfrac{-3}{3}\\big)^3}}$<br>\n",
    "$x = \\sqrt[3]{2+\\sqrt{3}} + \\sqrt[3]{2-\\sqrt{3}}$<p>\n",
    "ie. $\\Big( \\sqrt[3]{2+\\sqrt{3}} + \\sqrt[3]{2-\\sqrt{3}}\\Big)^3+p\\Big( \\sqrt[3]{2+\\sqrt{3}} + \\sqrt[3]{2-\\sqrt{3}}\\Big)+q=0$<p>\n",
    "\n",
    "Now to transform back to the equations original form $x^3+6x^2+9x-2=0$,<br>\n",
    "we use the identity $x = y -\\dfrac{a}{3}$ giving $x = y - \\dfrac {6}{3}= y-2$.<br>\n",
    "Performing the substitutions, $x = \\sqrt[3]{2+\\sqrt{3}} + \\sqrt[3]{2-\\sqrt{3}} - 2$.<p>"
   ]
  },
  {
   "cell_type": "markdown",
   "metadata": {},
   "source": [
    "2) The cubic equation $x^3+6x-20=0$ has $2$ as a solution.<br>\n",
    "$\\ \\ \\ $ How is this solution given by Cardano's formula?<br>\n",
    "\n",
    "__solution:__"
   ]
  },
  {
   "cell_type": "code",
   "execution_count": null,
   "metadata": {
    "collapsed": true
   },
   "outputs": [],
   "source": []
  }
 ],
 "metadata": {
  "kernelspec": {
   "display_name": "Python 3",
   "language": "python",
   "name": "python3"
  },
  "language_info": {
   "codemirror_mode": {
    "name": "ipython",
    "version": 3
   },
   "file_extension": ".py",
   "mimetype": "text/x-python",
   "name": "python",
   "nbconvert_exporter": "python",
   "pygments_lexer": "ipython3",
   "version": "3.6.1"
  }
 },
 "nbformat": 4,
 "nbformat_minor": 2
}
